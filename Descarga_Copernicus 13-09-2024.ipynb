{
 "cells": [
  {
   "cell_type": "markdown",
   "id": "1f428503-511e-46e5-bf0a-ffd926238412",
   "metadata": {},
   "source": [
    "# Descarga de imágenes de satélite de Copernicus\n",
    "\n",
    "### Documentación oficial [aquí](https://documentation.dataspace.copernicus.eu/APIs/OData.html \"OData's Documentation\") de la API **OData**\n",
    "\n",
    "https://documentation.dataspace.copernicus.eu/APIs/OData.html\n",
    "\n",
    "### URL\n",
    "\n",
    "Para trabajar con la API OData de Copernicus, es importante entender cómo estructurar las consultas y qué opciones están disponibles para filtrar y recuperar datos específicos."
   ]
  },
  {
   "cell_type": "code",
   "execution_count": 1,
   "id": "c08b0079-54f8-45f4-8978-5dbf18a29729",
   "metadata": {},
   "outputs": [],
   "source": [
    "url=\"\"\"\n",
    "        https://catalogue.dataspace.copernicus.eu/odata/v1/Products?$filter=Collection/Name eq 'SENTINEL-2' and \n",
    "        ContentDate/Start gt 2024-01-01T00:00:00.000Z and ContentDate/Start lt 2030-12-31T00:10:00.000Z and \n",
    "        Attributes/OData.CSC.DoubleAttribute/any(att:att/Name eq 'cloudCover' and att/OData.CSC.DoubleAttribute/Value le 40) and\n",
    "        Attributes/OData.CSC.StringAttribute/any(att:att/Name eq 'productType' and att/OData.CSC.StringAttribute/Value eq 'S2MSI2A') and \n",
    "        OData.CSC.Intersects(area=geography'SRID=4326;POLYGON ((-79.6094133704819 22.2004997536145,-79.7167043945783 21.9193972704819,-79.2918319391566 21.8121062463855,-79.1652285307229 22.1468542415663,-79.6094133704819 22.2004997536145))')&$orderby=ContentDate/Start desc\"\"\""
   ]
  },
  {
   "cell_type": "markdown",
   "id": "f2e20a9f-36c3-4eb3-b6cb-49e2c6273595",
   "metadata": {},
   "source": [
    "**línea 1:** Filtra por nombre == 'SENTINEL-2' --> Las misiones Sentinel-2 se emplean con fines agrometeorológicos, tienen una frecuencia de revisita de 10 días, pero como son 2 satélites gemelos se reduce el sensoramiento del mismo sitio a 5 días\n",
    "\n",
    "**línea 2:** Filtra las imágenes entre el 01/01/2024 y el 31/12/2024 (aquí se usa formato americano YY-mm-dd) --> luego más adelante se organizaran las imágenes en orden descendente por lo que las más recientes quedarán en el top\n",
    "\n",
    "**línea 3:** Filtra por nubosidad <= 40 %\n",
    "\n",
    "**línea 4:** Filtra todos los productos que coincidan con 'S2MSI2A' --> S2MSI2A sensor de imagen multiespectral (MSI), nivel 2A se encuentran ortorectificadas con niveles de reflectancia por debajo de la atmósfera ([BOA](https://www.gisandbeers.com/lo-deberias-saber-imagenes-sentinel-2/))\n",
    "\n",
    "**línea 5:** Filtra aquellas imágenes que coincida con un área de interés, usa formato well-know (el ejemplo de la url: abarca un pedazo de la provincia de Sancti Spíritus) y termina la línea ordenando los resultados del más reciente al más antiguo (orden descendente)\n",
    "\n",
    "### Request, petición 1"
   ]
  },
  {
   "cell_type": "code",
   "execution_count": 2,
   "id": "35f48022-86f2-4ad8-bff6-64bc3f51cf0e",
   "metadata": {},
   "outputs": [
    {
     "data": {
      "text/html": [
       "<div>\n",
       "<style scoped>\n",
       "    .dataframe tbody tr th:only-of-type {\n",
       "        vertical-align: middle;\n",
       "    }\n",
       "\n",
       "    .dataframe tbody tr th {\n",
       "        vertical-align: top;\n",
       "    }\n",
       "\n",
       "    .dataframe thead th {\n",
       "        text-align: right;\n",
       "    }\n",
       "</style>\n",
       "<table border=\"1\" class=\"dataframe\">\n",
       "  <thead>\n",
       "    <tr style=\"text-align: right;\">\n",
       "      <th></th>\n",
       "      <th>Id</th>\n",
       "      <th>Name</th>\n",
       "      <th>S3Path</th>\n",
       "      <th>GeoFootprint</th>\n",
       "    </tr>\n",
       "  </thead>\n",
       "  <tbody>\n",
       "    <tr>\n",
       "      <th>0</th>\n",
       "      <td>9af6dbb1-56de-43b0-b890-0e445d79bc62</td>\n",
       "      <td>S2B_MSIL2A_20240911T160509_N0511_R054_T17QPE_2...</td>\n",
       "      <td>/eodata/Sentinel-2/MSI/L2A/2024/09/11/S2B_MSIL...</td>\n",
       "      <td>{'type': 'Polygon', 'coordinates': [[[-79.2179...</td>\n",
       "    </tr>\n",
       "    <tr>\n",
       "      <th>1</th>\n",
       "      <td>4caf5409-b9c1-4d51-9363-d0219d488254</td>\n",
       "      <td>S2A_MSIL2A_20240906T160511_N0511_R054_T17QPE_2...</td>\n",
       "      <td>/eodata/Sentinel-2/MSI/L2A/2024/09/06/S2A_MSIL...</td>\n",
       "      <td>{'type': 'Polygon', 'coordinates': [[[-79.2105...</td>\n",
       "    </tr>\n",
       "    <tr>\n",
       "      <th>2</th>\n",
       "      <td>77c25c2e-ab21-45fe-a009-05a01cb9cf24</td>\n",
       "      <td>S2A_MSIL2A_20240903T155521_N0511_R011_T17QPE_2...</td>\n",
       "      <td>/eodata/Sentinel-2/MSI/L2A/2024/09/03/S2A_MSIL...</td>\n",
       "      <td>{'type': 'Polygon', 'coordinates': [[[-79.8503...</td>\n",
       "    </tr>\n",
       "  </tbody>\n",
       "</table>\n",
       "</div>"
      ],
      "text/plain": [
       "                                     Id  \\\n",
       "0  9af6dbb1-56de-43b0-b890-0e445d79bc62   \n",
       "1  4caf5409-b9c1-4d51-9363-d0219d488254   \n",
       "2  77c25c2e-ab21-45fe-a009-05a01cb9cf24   \n",
       "\n",
       "                                                Name  \\\n",
       "0  S2B_MSIL2A_20240911T160509_N0511_R054_T17QPE_2...   \n",
       "1  S2A_MSIL2A_20240906T160511_N0511_R054_T17QPE_2...   \n",
       "2  S2A_MSIL2A_20240903T155521_N0511_R011_T17QPE_2...   \n",
       "\n",
       "                                              S3Path  \\\n",
       "0  /eodata/Sentinel-2/MSI/L2A/2024/09/11/S2B_MSIL...   \n",
       "1  /eodata/Sentinel-2/MSI/L2A/2024/09/06/S2A_MSIL...   \n",
       "2  /eodata/Sentinel-2/MSI/L2A/2024/09/03/S2A_MSIL...   \n",
       "\n",
       "                                        GeoFootprint  \n",
       "0  {'type': 'Polygon', 'coordinates': [[[-79.2179...  \n",
       "1  {'type': 'Polygon', 'coordinates': [[[-79.2105...  \n",
       "2  {'type': 'Polygon', 'coordinates': [[[-79.8503...  "
      ]
     },
     "execution_count": 2,
     "metadata": {},
     "output_type": "execute_result"
    }
   ],
   "source": [
    "import requests\n",
    "import pandas as pd\n",
    "\n",
    "df = pd.DataFrame()\n",
    "\n",
    "#proxies = {'http':'http://[user]:[password]@[proxy]:[port]'}  # usar si se tiene proxy\n",
    "#req = requests.get(proxies=proxies, url=url)                  # usar si se tiene proxy\n",
    "req = requests.get(url=url)                                    # usar si no se tiene proxy\n",
    "url_current = req.url\n",
    "json = req.json()\n",
    "\n",
    "# Print only specific columns\n",
    "if len(json) != 1:\n",
    "    df = pd.DataFrame(json['value'])\n",
    "if len(df) != 0:\n",
    "    if '@odata.nextLink' in json.keys():\n",
    "        url_next = json['@odata.nextLink']\n",
    "    columns_to_print = ['Id', 'Name','S3Path','GeoFootprint'] \n",
    "df[columns_to_print].head(3) # ojo aquí en la visualización te estoy sesgando la metadata a solo 4 campos que son importantes para que te ubiques)"
   ]
  },
  {
   "cell_type": "markdown",
   "id": "32cfcf96-ba90-4419-80d3-3a9258e2eb02",
   "metadata": {},
   "source": [
    "**['Id', 'Name','S3Path','GeoFootprint']**, pero te muestro todos las disponibles"
   ]
  },
  {
   "cell_type": "code",
   "execution_count": 3,
   "id": "42000805-012c-408f-9148-23fc36109f74",
   "metadata": {},
   "outputs": [
    {
     "data": {
      "text/plain": [
       "['@odata.mediaContentType',\n",
       " 'Id',\n",
       " 'Name',\n",
       " 'ContentType',\n",
       " 'ContentLength',\n",
       " 'OriginDate',\n",
       " 'PublicationDate',\n",
       " 'ModificationDate',\n",
       " 'Online',\n",
       " 'EvictionDate',\n",
       " 'S3Path',\n",
       " 'Checksum',\n",
       " 'ContentDate',\n",
       " 'Footprint',\n",
       " 'GeoFootprint']"
      ]
     },
     "execution_count": 3,
     "metadata": {},
     "output_type": "execute_result"
    }
   ],
   "source": [
    "[ii for ii in df.columns]"
   ]
  },
  {
   "cell_type": "code",
   "execution_count": 4,
   "id": "818f3e75-ab02-4e91-9850-773e6b813f3f",
   "metadata": {},
   "outputs": [
    {
     "data": {
      "text/html": [
       "<div>\n",
       "<style scoped>\n",
       "    .dataframe tbody tr th:only-of-type {\n",
       "        vertical-align: middle;\n",
       "    }\n",
       "\n",
       "    .dataframe tbody tr th {\n",
       "        vertical-align: top;\n",
       "    }\n",
       "\n",
       "    .dataframe thead th {\n",
       "        text-align: right;\n",
       "    }\n",
       "</style>\n",
       "<table border=\"1\" class=\"dataframe\">\n",
       "  <thead>\n",
       "    <tr style=\"text-align: right;\">\n",
       "      <th></th>\n",
       "      <th>@odata.mediaContentType</th>\n",
       "      <th>Id</th>\n",
       "      <th>Name</th>\n",
       "      <th>ContentType</th>\n",
       "      <th>ContentLength</th>\n",
       "      <th>OriginDate</th>\n",
       "      <th>PublicationDate</th>\n",
       "      <th>ModificationDate</th>\n",
       "      <th>Online</th>\n",
       "      <th>EvictionDate</th>\n",
       "      <th>S3Path</th>\n",
       "      <th>Checksum</th>\n",
       "      <th>ContentDate</th>\n",
       "      <th>Footprint</th>\n",
       "      <th>GeoFootprint</th>\n",
       "    </tr>\n",
       "  </thead>\n",
       "  <tbody>\n",
       "    <tr>\n",
       "      <th>0</th>\n",
       "      <td>application/octet-stream</td>\n",
       "      <td>9af6dbb1-56de-43b0-b890-0e445d79bc62</td>\n",
       "      <td>S2B_MSIL2A_20240911T160509_N0511_R054_T17QPE_2...</td>\n",
       "      <td>application/octet-stream</td>\n",
       "      <td>807690091</td>\n",
       "      <td>2024-09-11T22:12:16.000000Z</td>\n",
       "      <td>2024-09-11T22:24:36.278143Z</td>\n",
       "      <td>2024-09-11T22:25:32.807307Z</td>\n",
       "      <td>True</td>\n",
       "      <td>9999-12-31T23:59:59.999999Z</td>\n",
       "      <td>/eodata/Sentinel-2/MSI/L2A/2024/09/11/S2B_MSIL...</td>\n",
       "      <td>[{'Value': '560e21b10b60ca8f28d52d6634060005',...</td>\n",
       "      <td>{'Start': '2024-09-11T16:05:09.024000Z', 'End'...</td>\n",
       "      <td>geography'SRID=4326;POLYGON ((-79.217945379085...</td>\n",
       "      <td>{'type': 'Polygon', 'coordinates': [[[-79.2179...</td>\n",
       "    </tr>\n",
       "    <tr>\n",
       "      <th>1</th>\n",
       "      <td>application/octet-stream</td>\n",
       "      <td>4caf5409-b9c1-4d51-9363-d0219d488254</td>\n",
       "      <td>S2A_MSIL2A_20240906T160511_N0511_R054_T17QPE_2...</td>\n",
       "      <td>application/octet-stream</td>\n",
       "      <td>792977900</td>\n",
       "      <td>2024-09-06T23:28:59.000000Z</td>\n",
       "      <td>2024-09-06T23:40:11.021501Z</td>\n",
       "      <td>2024-09-06T23:41:07.757129Z</td>\n",
       "      <td>True</td>\n",
       "      <td>9999-12-31T23:59:59.999999Z</td>\n",
       "      <td>/eodata/Sentinel-2/MSI/L2A/2024/09/06/S2A_MSIL...</td>\n",
       "      <td>[{'Value': 'e50b860c81a120b072321778142042b7',...</td>\n",
       "      <td>{'Start': '2024-09-06T16:05:11.024000Z', 'End'...</td>\n",
       "      <td>geography'SRID=4326;POLYGON ((-79.210508664189...</td>\n",
       "      <td>{'type': 'Polygon', 'coordinates': [[[-79.2105...</td>\n",
       "    </tr>\n",
       "    <tr>\n",
       "      <th>2</th>\n",
       "      <td>application/octet-stream</td>\n",
       "      <td>77c25c2e-ab21-45fe-a009-05a01cb9cf24</td>\n",
       "      <td>S2A_MSIL2A_20240903T155521_N0511_R011_T17QPE_2...</td>\n",
       "      <td>application/octet-stream</td>\n",
       "      <td>873226397</td>\n",
       "      <td>2024-09-03T23:13:27.000000Z</td>\n",
       "      <td>2024-09-03T23:22:25.320100Z</td>\n",
       "      <td>2024-09-03T23:23:24.037963Z</td>\n",
       "      <td>True</td>\n",
       "      <td>9999-12-31T23:59:59.999999Z</td>\n",
       "      <td>/eodata/Sentinel-2/MSI/L2A/2024/09/03/S2A_MSIL...</td>\n",
       "      <td>[{'Value': 'ace3a6edd52acb0596676d33d9ed5005',...</td>\n",
       "      <td>{'Start': '2024-09-03T15:55:21.024000Z', 'End'...</td>\n",
       "      <td>geography'SRID=4326;POLYGON ((-79.850338734664...</td>\n",
       "      <td>{'type': 'Polygon', 'coordinates': [[[-79.8503...</td>\n",
       "    </tr>\n",
       "  </tbody>\n",
       "</table>\n",
       "</div>"
      ],
      "text/plain": [
       "    @odata.mediaContentType                                    Id  \\\n",
       "0  application/octet-stream  9af6dbb1-56de-43b0-b890-0e445d79bc62   \n",
       "1  application/octet-stream  4caf5409-b9c1-4d51-9363-d0219d488254   \n",
       "2  application/octet-stream  77c25c2e-ab21-45fe-a009-05a01cb9cf24   \n",
       "\n",
       "                                                Name  \\\n",
       "0  S2B_MSIL2A_20240911T160509_N0511_R054_T17QPE_2...   \n",
       "1  S2A_MSIL2A_20240906T160511_N0511_R054_T17QPE_2...   \n",
       "2  S2A_MSIL2A_20240903T155521_N0511_R011_T17QPE_2...   \n",
       "\n",
       "                ContentType  ContentLength                   OriginDate  \\\n",
       "0  application/octet-stream      807690091  2024-09-11T22:12:16.000000Z   \n",
       "1  application/octet-stream      792977900  2024-09-06T23:28:59.000000Z   \n",
       "2  application/octet-stream      873226397  2024-09-03T23:13:27.000000Z   \n",
       "\n",
       "               PublicationDate             ModificationDate  Online  \\\n",
       "0  2024-09-11T22:24:36.278143Z  2024-09-11T22:25:32.807307Z    True   \n",
       "1  2024-09-06T23:40:11.021501Z  2024-09-06T23:41:07.757129Z    True   \n",
       "2  2024-09-03T23:22:25.320100Z  2024-09-03T23:23:24.037963Z    True   \n",
       "\n",
       "                  EvictionDate  \\\n",
       "0  9999-12-31T23:59:59.999999Z   \n",
       "1  9999-12-31T23:59:59.999999Z   \n",
       "2  9999-12-31T23:59:59.999999Z   \n",
       "\n",
       "                                              S3Path  \\\n",
       "0  /eodata/Sentinel-2/MSI/L2A/2024/09/11/S2B_MSIL...   \n",
       "1  /eodata/Sentinel-2/MSI/L2A/2024/09/06/S2A_MSIL...   \n",
       "2  /eodata/Sentinel-2/MSI/L2A/2024/09/03/S2A_MSIL...   \n",
       "\n",
       "                                            Checksum  \\\n",
       "0  [{'Value': '560e21b10b60ca8f28d52d6634060005',...   \n",
       "1  [{'Value': 'e50b860c81a120b072321778142042b7',...   \n",
       "2  [{'Value': 'ace3a6edd52acb0596676d33d9ed5005',...   \n",
       "\n",
       "                                         ContentDate  \\\n",
       "0  {'Start': '2024-09-11T16:05:09.024000Z', 'End'...   \n",
       "1  {'Start': '2024-09-06T16:05:11.024000Z', 'End'...   \n",
       "2  {'Start': '2024-09-03T15:55:21.024000Z', 'End'...   \n",
       "\n",
       "                                           Footprint  \\\n",
       "0  geography'SRID=4326;POLYGON ((-79.217945379085...   \n",
       "1  geography'SRID=4326;POLYGON ((-79.210508664189...   \n",
       "2  geography'SRID=4326;POLYGON ((-79.850338734664...   \n",
       "\n",
       "                                        GeoFootprint  \n",
       "0  {'type': 'Polygon', 'coordinates': [[[-79.2179...  \n",
       "1  {'type': 'Polygon', 'coordinates': [[[-79.2105...  \n",
       "2  {'type': 'Polygon', 'coordinates': [[[-79.8503...  "
      ]
     },
     "execution_count": 4,
     "metadata": {},
     "output_type": "execute_result"
    }
   ],
   "source": [
    "df.head(3)"
   ]
  },
  {
   "cell_type": "markdown",
   "id": "3ed15ad3-3f5b-4ef8-aad4-dd703e04fc2d",
   "metadata": {},
   "source": [
    "### Identificador de la imagen más reciente"
   ]
  },
  {
   "cell_type": "code",
   "execution_count": 5,
   "id": "198a4751-af07-4112-a6e1-3cf6d912e782",
   "metadata": {},
   "outputs": [
    {
     "data": {
      "text/plain": [
       "'9af6dbb1-56de-43b0-b890-0e445d79bc62'"
      ]
     },
     "execution_count": 5,
     "metadata": {},
     "output_type": "execute_result"
    }
   ],
   "source": [
    "descarga = df.iloc[0,:]\n",
    "descarga['Id']"
   ]
  },
  {
   "cell_type": "markdown",
   "id": "bec7a964-596b-444c-a971-0efd91ae5553",
   "metadata": {},
   "source": [
    "### Crearse cuenta en Copernicus\n",
    "\n",
    "Luego de creada la cuenta puede seguir el siguiente tutorial para usar los **OAuth client** \n",
    "\n",
    "[tutorial OAuth client](https://documentation.dataspace.copernicus.eu/APIs/SentinelHub/Overview/Authentication.html) --> (https://documentation.dataspace.copernicus.eu/APIs/SentinelHub/Overview/Authentication.html)\n",
    "\n",
    "### Petición request 2"
   ]
  },
  {
   "cell_type": "code",
   "execution_count": 6,
   "id": "84dac16d-9bec-45cc-8757-0fd1672dc0ea",
   "metadata": {},
   "outputs": [
    {
     "name": "stdout",
     "output_type": "stream",
     "text": [
      "ACCESS_TOKEN=eyJhbGciOiJSUzI1NiIsInR5cCIgOiAiSldUIiwia2lkIiA6ICJYVUh3VWZKaHVDVWo0X3k4ZF8xM0hxWXBYMFdwdDd2anhob2FPLUxzREZFIn0.eyJleHAiOjE3MjYyNjU5MjUsImlhdCI6MTcyNjI2NTMyNSwianRpIjoiODRkNDkzZDAtNjcwZi00OWExLTk0YTUtYjY4ZjY2MTg1MjQ0IiwiaXNzIjoiaHR0cHM6Ly9pZGVudGl0eS5kYXRhc3BhY2UuY29wZXJuaWN1cy5ldS9hdXRoL3JlYWxtcy9DRFNFIiwiYXVkIjpbIkNMT1VERkVSUk9fUFVCTElDIiwiYWNjb3VudCJdLCJzdWIiOiI2Y2JjMjdlOC00Y2Y0LTRlZTQtYjgwMi1jZTQ3YjY4NDM2MmIiLCJ0eXAiOiJCZWFyZXIiLCJhenAiOiJjZHNlLXB1YmxpYyIsInNlc3Npb25fc3RhdGUiOiI3Njc3NzZiNy1jMTkxLTRlMWYtYmU1Mi01OTNiOGI0M2IxNzgiLCJhbGxvd2VkLW9yaWdpbnMiOlsiaHR0cHM6Ly9sb2NhbGhvc3Q6NDIwMCIsIioiLCJodHRwczovL3dvcmtzcGFjZS5zdGFnaW5nLWNkc2UtZGF0YS1leHBsb3Jlci5hcHBzLnN0YWdpbmcuaW50cmEuY2xvdWRmZXJyby5jb20iXSwicmVhbG1fYWNjZXNzIjp7InJvbGVzIjpbIm9mZmxpbmVfYWNjZXNzIiwidW1hX2F1dGhvcml6YXRpb24iLCJkZWZhdWx0LXJvbGVzLWNkYXMiLCJjb3Blcm5pY3VzLWdlbmVyYWwiXX0sInJlc291cmNlX2FjY2VzcyI6eyJhY2NvdW50Ijp7InJvbGVzIjpbIm1hbmFnZS1hY2NvdW50IiwibWFuYWdlLWFjY291bnQtbGlua3MiLCJ2aWV3LXByb2ZpbGUiXX19LCJzY29wZSI6IkFVRElFTkNFX1BVQkxJQyBvcGVuaWQgZW1haWwgcHJvZmlsZSBvbmRlbWFuZF9wcm9jZXNzaW5nIHVzZXItY29udGV4dCIsInNpZCI6Ijc2Nzc3NmI3LWMxOTEtNGUxZi1iZTUyLTU5M2I4YjQzYjE3OCIsImdyb3VwX21lbWJlcnNoaXAiOlsiL2FjY2Vzc19ncm91cHMvdXNlcl90eXBvbG9neS9jb3Blcm5pY3VzX2dlbmVyYWwiLCIvb3JnYW5pemF0aW9ucy9kZWZhdWx0LTZjYmMyN2U4LTRjZjQtNGVlNC1iODAyLWNlNDdiNjg0MzYyYi9yZWd1bGFyX3VzZXIiXSwiZW1haWxfdmVyaWZpZWQiOnRydWUsIm5hbWUiOiJPc3ZhbGRvIERlbGdhZG8iLCJvcmdhbml6YXRpb25zIjpbImRlZmF1bHQtNmNiYzI3ZTgtNGNmNC00ZWU0LWI4MDItY2U0N2I2ODQzNjJiIl0sInVzZXJfY29udGV4dF9pZCI6IjFlODgxZWFmLTllNTctNDE3OS04ODM4LWQ5NDgxMjQ0ZjM3MCIsImNvbnRleHRfcm9sZXMiOnt9LCJjb250ZXh0X2dyb3VwcyI6WyIvYWNjZXNzX2dyb3Vwcy91c2VyX3R5cG9sb2d5L2NvcGVybmljdXNfZ2VuZXJhbC8iLCIvb3JnYW5pemF0aW9ucy9kZWZhdWx0LTZjYmMyN2U4LTRjZjQtNGVlNC1iODAyLWNlNDdiNjg0MzYyYi9yZWd1bGFyX3VzZXIvIl0sInByZWZlcnJlZF91c2VybmFtZSI6Im9kZWxnYWRvQHV0ZW0uY2wiLCJnaXZlbl9uYW1lIjoiT3N2YWxkbyIsImZhbWlseV9uYW1lIjoiRGVsZ2FkbyIsInVzZXJfY29udGV4dCI6ImRlZmF1bHQtNmNiYzI3ZTgtNGNmNC00ZWU0LWI4MDItY2U0N2I2ODQzNjJiIiwiZW1haWwiOiJvZGVsZ2Fkb0B1dGVtLmNsIn0.WPI5N4ACCOwy9-auBFNX0nWq1L1nrdFr8pupa9Agh-EmyhGWUJAdoSms5HAqpZo3a48Fhb1kh2dBlkSI0jkd69q16LcpwPSBia6irk49HFjpz_ICNAZtwtIIwDDo5UpEQB-MESlcqECD27n5KTOuKdIT1Sw7qRbx5j13BVZQD77ogslg4ufV1aqHHK--iXTPtNmwwvTu1tBifWDe74T6sg7ojmaaXIj80jo8T9fwWLDjWSR7myPNrI6pw_xN7fL0bGOVku0Snk-rBAnNkWS2sOG2H77RUlHVhT-q67GIT5PF5dm5wYLb5Fsh999lfoz8M7LK8zn2K2uxdhruo5mKTQ\n"
     ]
    }
   ],
   "source": [
    "import requests\n",
    "\n",
    "# Detalles de la solicitud\n",
    "url = \"https://identity.dataspace.copernicus.eu/auth/realms/CDSE/protocol/openid-connect/token\"\n",
    "data = {\n",
    "    'client_id': 'cdse-public',\n",
    "    'username': 'odelgado@utem.cl',  # Reemplaza con tu username\n",
    "    'password': 'fN6\"8N7983EBUg*',  # Reemplaza con tu password\n",
    "    'grant_type': 'password'\n",
    "}\n",
    "\n",
    "# Realiza la solicitud POST\n",
    "response = requests.post(url, data=data)\n",
    "\n",
    "# Si la respuesta es exitosa, extrae el token\n",
    "if response.status_code == 200:\n",
    "    response_json = response.json()\n",
    "    access_token = response_json.get('access_token')\n",
    "    if access_token:\n",
    "        print(f\"ACCESS_TOKEN={access_token}\")\n",
    "    else:\n",
    "        print(\"No se encontró el token de acceso en la respuesta.\")\n",
    "else:\n",
    "    print(f\"Error en la solicitud: {response.status_code}\")\n"
   ]
  },
  {
   "cell_type": "markdown",
   "id": "e39ccb55-10c1-4b23-acb2-c98c9f1e1028",
   "metadata": {},
   "source": [
    "### Product Download\n",
    "\n",
    "Seguir los pasos del [tutorial](https://documentation.dataspace.copernicus.eu/APIs/OData.html \"OData's Documentation\") en la sección **Product Download**."
   ]
  },
  {
   "cell_type": "code",
   "execution_count": 7,
   "id": "15d66b68-6cb1-4dde-b9c8-3ee28ad54a29",
   "metadata": {},
   "outputs": [
    {
     "data": {
      "text/plain": [
       "'S2B_MSIL2A_20240911T160509_N0511_R054_T17QPE_20240911T211003.SAFE'"
      ]
     },
     "execution_count": 7,
     "metadata": {},
     "output_type": "execute_result"
    }
   ],
   "source": [
    "descarga['Name'] # nombre del ráster que se descargará"
   ]
  },
  {
   "cell_type": "markdown",
   "id": "f3285a1c-4c35-4da9-b9dd-b9d50fd61bd0",
   "metadata": {},
   "source": [
    "**URL** para realizar la descarga, se le pasa el Identificador (**descarga['Id']**)"
   ]
  },
  {
   "cell_type": "code",
   "execution_count": 8,
   "id": "95316005-5274-49ec-8404-c16dfa59ae9c",
   "metadata": {},
   "outputs": [
    {
     "data": {
      "text/plain": [
       "'https://zipper.dataspace.copernicus.eu/odata/v1/Products(9af6dbb1-56de-43b0-b890-0e445d79bc62)/$value'"
      ]
     },
     "execution_count": 8,
     "metadata": {},
     "output_type": "execute_result"
    }
   ],
   "source": [
    "url = f\"https://zipper.dataspace.copernicus.eu/odata/v1/Products({descarga['Id']})/$value\"\n",
    "url"
   ]
  },
  {
   "cell_type": "markdown",
   "id": "1abf3c41-05d9-46e7-a0a8-c296f40d1a10",
   "metadata": {},
   "source": [
    "### Request, petición 3\n",
    "\n",
    "Para la petición 1 no necesitamos usar los credenciales y pudimos listar las últimas imágenes disponibles.\n",
    "\n",
    "Para la petición 2 usamos los credenciales para obtener el token de acceso\n",
    "\n",
    "La petición 3 la usaremos para descargar la imagen del satélite"
   ]
  },
  {
   "cell_type": "code",
   "execution_count": 9,
   "id": "8b3701f7-8a29-4997-bcd1-d48e049c247b",
   "metadata": {},
   "outputs": [
    {
     "name": "stdout",
     "output_type": "stream",
     "text": [
      "https://zipper.dataspace.copernicus.eu/odata/v1/Products(9af6dbb1-56de-43b0-b890-0e445d79bc62)/$value\n",
      "<Response [200]>\n"
     ]
    }
   ],
   "source": [
    "import requests\n",
    "\n",
    "headers = {\"Authorization\": f\"Bearer {access_token}\"}                       # este paso es crítico, si no se usa el token de acceso, el sistema te deniega\n",
    "#proxies = {'http':'http://[user]:[password]@[proxy]:[port]'}               # usar si se tiene proxy\n",
    "session = requests.Session()\n",
    "session.headers.update(headers)\n",
    "#response = session.get(url, headers=headers, stream=True, proxies=proxies) # usar si se tiene proxy\n",
    "response = session.get(url, headers=headers, stream=True)                   # usar si no se tiene proxy\n",
    "with open(f\"{descarga['Name']}.zip\", \"wb\") as file:                                     # ponerle un nombre al comprimido, pudiera ser el alguna combinación con descarga['Name'] o alguno de interés propio\n",
    "    for chunk in response.iter_content(chunk_size=8192):\n",
    "        if chunk:\n",
    "            file.write(chunk)\n",
    "print(url)\n",
    "print(response)"
   ]
  },
  {
   "cell_type": "code",
   "execution_count": null,
   "id": "e7d1895e-780e-485f-86b9-9a7b26c77d3f",
   "metadata": {},
   "outputs": [],
   "source": []
  }
 ],
 "metadata": {
  "kernelspec": {
   "display_name": "Python 3 (ipykernel)",
   "language": "python",
   "name": "python3"
  },
  "language_info": {
   "codemirror_mode": {
    "name": "ipython",
    "version": 3
   },
   "file_extension": ".py",
   "mimetype": "text/x-python",
   "name": "python",
   "nbconvert_exporter": "python",
   "pygments_lexer": "ipython3",
   "version": "3.12.3"
  }
 },
 "nbformat": 4,
 "nbformat_minor": 5
}
